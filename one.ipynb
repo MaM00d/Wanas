{
  "cells": [
    {
      "cell_type": "code",
      "metadata": {
        "jukit_cell_id": "POlNBggkKd"
      },
      "source": [
        "import pandas as pd\n",
        "import torch"
      ],
      "outputs": [],
      "execution_count": null
    },
    {
      "cell_type": "code",
      "metadata": {
        "jukit_cell_id": "mFdRwyniPb"
      },
      "source": [
        "device = 'cuda' if torch.cuda.is_available() else 'cpu'\n",
        "print(device)"
      ],
      "outputs": [
        {
          "output_type": "stream",
          "name": "stdout",
          "text": "cuda\n"
        }
      ],
      "execution_count": 1
    },
    {
      "cell_type": "code",
      "metadata": {
        "jukit_cell_id": "QmDxSXhzi7"
      },
      "source": [
        "data = pd.read_excel('/home/me/Projects/wana/langmod/wanas/ones/datasets/2.Egyptian Tweets.xlsx')\n",
        "data[\"Text\"].iloc[1]"
      ],
      "outputs": [
        {
          "output_type": "stream",
          "name": "stdout",
          "text": "\n"
        },
        {
          "output_type": "execute_result",
          "execution_count": 2,
          "data": {
            "text/plain": "'\u0627\u0643\u0628\u0631 \u062e\u0637\u0627 \u062a\u0631\u062a\u0643\u0628\u0647 \u0627\u0646 \u062a\u0639\u0627\u0645\u0644 \u0627\u0644\u0646\u0627\u0633 \u0628\u0627\u062e\u0644\u0627\u0642\u0643 \u0627\u0646\u062a \u0645\u0634 \u0628\u0627\u062e\u0644\u0627\u0642\u0647\u0645 \u0647\u0645\u0627  .  '"
          },
          "metadata": {}
        }
      ],
      "execution_count": 2
    },
    {
      "cell_type": "code",
      "metadata": {
        "jukit_cell_id": "1tcuIbHC1g"
      },
      "source": [],
      "outputs": [
        {
          "output_type": "stream",
          "name": "stdout",
          "text": "world\n"
        }
      ],
      "execution_count": 3
    },
    {
      "cell_type": "code",
      "metadata": {
        "jukit_cell_id": "MuxEQwUFSK"
      },
      "source": [],
      "outputs": [],
      "execution_count": null
    }
  ],
  "metadata": {
    "anaconda-cloud": {},
    "kernelspec": {
      "display_name": "python",
      "language": "python",
      "name": "python3"
    }
  },
  "nbformat": 4,
  "nbformat_minor": 4
}